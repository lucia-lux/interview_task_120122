{
 "cells": [
  {
   "cell_type": "code",
   "execution_count": 107,
   "metadata": {},
   "outputs": [],
   "source": [
    "import os\n",
    "import pandas as pd\n",
    "import numpy as np\n",
    "import statsmodels.api as sm\n",
    "import statsmodels.formula.api as smf"
   ]
  },
  {
   "cell_type": "code",
   "execution_count": 117,
   "metadata": {},
   "outputs": [],
   "source": [
    "# input directory path\n",
    "input_dir = os.getcwd()\n",
    "infilename = \"data.csv\"\n",
    "# read input data file\n",
    "in_df = pd.read_csv(os.path.join(input_dir, infilename))\n",
    "# drop columns that contain only nans\n",
    "#in_df = in_df.dropna(how = 'all', axis = 1)\n",
    "#in_df = in_df.rename(columns = {'Gender (1 = male, 2 = female)':'Gender'})"
   ]
  },
  {
   "cell_type": "code",
   "execution_count": 125,
   "metadata": {},
   "outputs": [],
   "source": [
    "class Preprocess_Dataframe:\n",
    "\n",
    "    \"\"\" Preprocess input dataframe\"\"\"\n",
    "\n",
    "    def __init__(self, in_df):\n",
    "        self.in_df = in_df\n",
    "    \n",
    "    def remove_all_nans(self, axis_type: str):\n",
    "        \"\"\"\n",
    "        Remove rows or columns containing all NaNs.\n",
    "\n",
    "        Parameters\n",
    "        ----------\n",
    "        axis_type:  str\n",
    "            'rows' or 'columns'\n",
    "        \"\"\"\n",
    "        if axis_type == 'rows':\n",
    "            self.in_df = self.in_df.dropna(how = 'all')\n",
    "        else:\n",
    "            self.in_df = self.in_df.dropna(how = 'all', axis = 1)\n",
    "    \n",
    "    def add_ids(self, id_vals = None):\n",
    "        \"\"\"\n",
    "        Add id column.\n",
    "\n",
    "        Parameters\n",
    "        ----------\n",
    "        in_df:  pd DataFrame\n",
    "            Dataframe to operate on\n",
    "        \n",
    "        \"\"\"\n",
    "        if not id_vals:\n",
    "            self.in_df['id'] = np.arange(1,self.in_df.shape[0]+1)\n",
    "        else:\n",
    "            self.in_df['id'] = id_vals \n",
    "    \n",
    "    def rename_cols(self, old_names: list, new_names: list ):\n",
    "        \"\"\"\n",
    "        Renames specified columns to specified new names.\n",
    "\n",
    "        Parameters\n",
    "        ----------\n",
    "        old_names:  list of str\n",
    "            names of columns to be renamed\n",
    "        new_names:  list of str\n",
    "            new column names\n",
    "        \"\"\"\n",
    "        zipped_lists = zip(old_names, new_names)\n",
    "        names_dict = dict(zipped_lists)\n",
    "        self.in_df = self.in_df.rename(columns = names_dict)\n",
    "\n",
    "    def prep_col_names(self, filter_by, suffix, split_by_num = None, suffix_2 = None):\n",
    "        \"\"\"\n",
    "        Prep column names for use of wid_to_long method\n",
    "\n",
    "        Parameters\n",
    "        ----------\n",
    "        filter_by: str\n",
    "            substring to filter columns by\n",
    "        prefix: str\n",
    "            specify desired prefix\n",
    "            for wide_to_long conversion\n",
    "        \"\"\"\n",
    "        cols_to_prep = self.in_df.filter(like = filter_by, axis = 1).columns\n",
    "        if not split_by_num:\n",
    "            # NB: reduces flexibility, but can always use method overriding & child class if no longer\n",
    "            # appropriate.\n",
    "            prepped_col_names = ['_'.join([name.split()[0],suffix]) for name in cols_to_prep]\n",
    "            self.rename_cols(cols_to_prep,prepped_col_names)\n",
    "        else:\n",
    "            new_names = ['numdays','enjoy','difficult']\n",
    "            #prepped_col_names = ['_'.join([name, suffix]) for name in cols_to_prep[:split_by_num]]\n",
    "            prepped_col_names = ['_'.join([name, suffix]) for name in new_names]\n",
    "            prepped_col_names.extend(['_'.join([name, suffix_2]) for name in new_names])\n",
    "            self.rename_cols(cols_to_prep,prepped_col_names)\n",
    "\n",
    "\n",
    "    def reshape_data(self):\n",
    "        \"\"\"\n",
    "        reshape df from wide to long format\n",
    "\n",
    "        \"\"\"\n",
    "        col_names =  list(set([name.split('_')[0] for name in self.in_df.columns[3:-1]]))\n",
    "        self.in_df_long = pd.wide_to_long(self.in_df, col_names,i = \"id\", j = \"time\", sep = '_').reset_index()\n",
    "    \n",
    "    def prepare_df(self):\n",
    "        \"\"\"\n",
    "        Preprocess dataframe.\n",
    "        \"\"\"\n",
    "        for index_name in ['rows','columns']:\n",
    "            self.remove_all_nans(index_name)\n",
    "        self.add_ids()\n",
    "        gender_col = self.in_df.filter(like = 'Gender',axis = 1).columns\n",
    "        self.rename_cols([gender_col[0], 'GHQ'], [gender_col[0].split()[0],'GHQ_0'])\n",
    "        self.prep_col_names('Qual','1',3,'2')\n",
    "        for filter_kw, prefix in [('baseline','0'),('day 10','1'),('day 30','2')]:\n",
    "            self.prep_col_names(filter_kw,prefix)\n",
    "        self.reshape_data()"
   ]
  },
  {
   "cell_type": "code",
   "execution_count": null,
   "metadata": {},
   "outputs": [],
   "source": []
  },
  {
   "cell_type": "code",
   "execution_count": 193,
   "metadata": {},
   "outputs": [],
   "source": [
    "import matplotlib.pyplot as plt\n",
    "import seaborn as sns\n",
    "from scipy import stats\n",
    "\n",
    "class Data_Explorer:\n",
    "    \"\"\"\n",
    "    Class for initial data exploration.\n",
    "    \"\"\"\n",
    "    def __init__(self, in_df_long,group_col):\n",
    "        self.in_df_long = in_df_long\n",
    "        self.group_col = group_col\n",
    "    \n",
    "    def show_univariate_distributions(self, in_var_name, plot_type):\n",
    "        pass\n",
    "\n",
    "    def show_bivariate_distributions(self, var_names):\n",
    "        pass\n",
    "    \n",
    "    def sample_describe(self,var_names: list, group_by = None):\n",
    "        \"\"\"\n",
    "        describe the sample at baseline\n",
    "\n",
    "        Parameters\n",
    "        ----------\n",
    "        var_names: list of str\n",
    "            variables to describe\n",
    "        group_by:    str\n",
    "            if desribing for more than one group,\n",
    "            specify name of group col\n",
    "        \"\"\"\n",
    "        if not group_by:\n",
    "            self.describe_df = self.in_df_long.loc[self.in_df_long.time==0, var_names].describe()\n",
    "        else:\n",
    "            var_names.extend([group_by])\n",
    "            self.describe_df = self.in_df_long.loc[:,var_names].groupby(group_by).describe()\n",
    "        print(self.describe_df.T)\n",
    "    \n",
    "    def get_baseline_diffs(self, var_name):\n",
    "        \"\"\"\n",
    "        Test for baseline differences.\n",
    "\n",
    "        Parameters\n",
    "        ----------\n",
    "        var_name: str\n",
    "            name of column to perform test on\n",
    "        \n",
    "        Returns\n",
    "            statistic and p-value\n",
    "        \"\"\"\n",
    "        _, norm_pval = stats.normaltest(self.in_df_long.loc[:,var_name])\n",
    "        if norm_pval<0.05:\n",
    "            non_parametric = 1\n",
    "            print(f\"Feature{var_name} is not normally distributed.\\nUsing Mann Whitney U test.\")\n",
    "        else:\n",
    "            non_parametric = None\n",
    "\n",
    "        group_names = self.in_df_long[self.group_col].unique()\n",
    "        samp1 = self.in_df_long.loc[(self.in_df_long[self.group_col] == group_names[0])&(self.in_df_long.time == 0),var_name]\n",
    "        samp2 = self.in_df_long.loc[(self.in_df_long[self.group_col] == group_names[1])&(self.in_df_long.time == 0),var_name]\n",
    "\n",
    "        if not non_parametric:\n",
    "            stat,p_val = stats.ttest_ind(samp1, samp2, nan_policy = 'omit')\n",
    "        else:\n",
    "            stat,p_val = stats.mannwhitneyu(samp1, samp2)\n",
    "        \n",
    "        if p_val<0.05:\n",
    "            print(f\"\\nGroups differ significantly at baseline on feature {var_name} (pval: {p_val}).\")\n",
    "        else:\n",
    "            print(f\"\\nNo significant baseline differences detected on feature {var_name} (pval:{p_val}).\\n\")\n",
    "        return stat, p_val\n",
    "\n"
   ]
  },
  {
   "cell_type": "code",
   "execution_count": 126,
   "metadata": {},
   "outputs": [],
   "source": [
    "pp = Preprocess_Dataframe(in_df)\n",
    "pp.prepare_df()"
   ]
  },
  {
   "cell_type": "code",
   "execution_count": 210,
   "metadata": {},
   "outputs": [
    {
     "name": "stdout",
     "output_type": "stream",
     "text": [
      "FeatureAge is not normally distributed.\n",
      "Using Mann Whitney U test.\n",
      "\n",
      "\n",
      "No significant baseline differences detected on feature Age (pval:0.09284320950453397.\n",
      "\n",
      "FeatureGender is not normally distributed.\n",
      "Using Mann Whitney U test.\n",
      "\n",
      "\n",
      "Groups differ significantly at baseline on feature Gender (pval: 0.035867498278359895).\n",
      "\n",
      "\n",
      "No significant baseline differences detected on feature RWS (pval:0.861675981479439.\n",
      "\n",
      "\n",
      "No significant baseline differences detected on feature GHQ (pval:0.7889123699778458.\n",
      "\n",
      "\n",
      "No significant baseline differences detected on feature SWLS (pval:0.7445787018536658.\n",
      "\n",
      "\n",
      "No significant baseline differences detected on feature PSS (pval:0.38697167128389753.\n",
      "\n"
     ]
    }
   ],
   "source": [
    "de = Data_Explorer(pp.in_df_long,'Group')\n",
    "#de.sample_describe(['GHQ','SWLS','PSS'],group_by = 'Group')\n",
    "features = de.in_df_long.loc[de.in_df_long.time == 0,:].dropna(how = 'all',axis =1).columns\n",
    "features = [f for f in features if f not in ['Group','time','id']]\n",
    "for feature in features:\n",
    "    de.get_baseline_diffs(feature)"
   ]
  },
  {
   "cell_type": "code",
   "execution_count": 183,
   "metadata": {},
   "outputs": [
    {
     "data": {
      "text/plain": [
       "array([[<AxesSubplot:title={'center':'GHQ'}>,\n",
       "        <AxesSubplot:title={'center':'SWLS'}>]], dtype=object)"
      ]
     },
     "execution_count": 183,
     "metadata": {},
     "output_type": "execute_result"
    },
    {
     "data": {
      "image/png": "[encoded data removed]",
      "text/plain": [
       "<Figure size 1440x720 with 2 Axes>"
      ]
     },
     "metadata": {
      "needs_background": "light"
     },
     "output_type": "display_data"
    }
   ],
   "source": [
    "de.in_df_long[(de.in_df_long.time==0)&(de.in_df_long.Group=='A')].dropna(how = 'all',axis = 1).hist(column = ['GHQ','SWLS'],figsize = [20,10])\n"
   ]
  },
  {
   "cell_type": "code",
   "execution_count": null,
   "metadata": {},
   "outputs": [],
   "source": [
    "de = Data_Explorer(in_df)\n",
    "dem_describe = de.sample_describe(['Gender','Age'])"
   ]
  },
  {
   "cell_type": "code",
   "execution_count": 218,
   "metadata": {},
   "outputs": [],
   "source": [
    "class Data_Analyzer:\n",
    "    def __init__(self, in_df_long,id_col):\n",
    "        self.in_df_long = in_df_long\n",
    "        self.id_col = id_col\n",
    "\n",
    "    def build_lmem(self, oc_name, predictor_names, interacts = None):\n",
    "        if not interacts:\n",
    "            rh_side = '+'.join(predictor_names)\n",
    "        else:\n",
    "            rh_side = '+'.join(predictor_names)\n",
    "        self.formula = ''.join([oc_name,'~',rh_side]) \n",
    "        self.model_lmem = smf.mixedlm(self.formula, self.in_df_long, groups=self.id_col,missing = 'drop').fit()\n",
    "        print(f\"\\nModel results:\\n{self.model_lmem.summary()}\")"
   ]
  },
  {
   "cell_type": "code",
   "execution_count": 221,
   "metadata": {},
   "outputs": [
    {
     "name": "stdout",
     "output_type": "stream",
     "text": [
      "\n",
      "Model results:\n",
      "                 Mixed Linear Model Regression Results\n",
      "=======================================================================\n",
      "Model:                  MixedLM      Dependent Variable:      RWS      \n",
      "No. Observations:       198          Method:                  REML     \n",
      "No. Groups:             72           Scale:                   40.2111  \n",
      "Min. group size:        1            Log-Likelihood:          -708.2324\n",
      "Max. group size:        3            Converged:               Yes      \n",
      "Mean group size:        2.8                                            \n",
      "-----------------------------------------------------------------------\n",
      "                              Coef.  Std.Err.   z   P>|z| [0.025 0.975]\n",
      "-----------------------------------------------------------------------\n",
      "Intercept                     69.416    8.136 8.532 0.000 53.470 85.362\n",
      "C(Group, Treatment('B'))[T.A]  1.310    2.325 0.564 0.573 -3.246  5.866\n",
      "Age                            0.172    0.209 0.823 0.411 -0.238  0.582\n",
      "id Var                        77.473    3.061                          \n",
      "=======================================================================\n",
      "\n"
     ]
    }
   ],
   "source": [
    "da = Data_Analyzer(pp.in_df_long,\"id\")\n",
    "da.build_lmem(\"PSS\",\"C(Group,Treatment('B'))\"],interacts = 1)"
   ]
  }
 ],
 "metadata": {
  "interpreter": {
   "hash": "48186e61764c8c514947f0ef500accf59797b98e64cdc910e21ec2975c1f1025"
  },
  "kernelspec": {
   "display_name": "Python 3.9.4 64-bit",
   "language": "python",
   "name": "python3"
  },
  "language_info": {
   "codemirror_mode": {
    "name": "ipython",
    "version": 3
   },
   "file_extension": ".py",
   "mimetype": "text/x-python",
   "name": "python",
   "nbconvert_exporter": "python",
   "pygments_lexer": "ipython3",
   "version": "3.9.7"
  },
  "orig_nbformat": 4
 },
 "nbformat": 4,
 "nbformat_minor": 2
}
